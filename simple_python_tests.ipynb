{
  "nbformat": 4,
  "nbformat_minor": 0,
  "metadata": {
    "colab": {
      "provenance": [],
      "authorship_tag": "ABX9TyPDO6ifE4fX/5YIcsBC9cKk",
      "include_colab_link": true
    },
    "kernelspec": {
      "name": "python3",
      "display_name": "Python 3"
    },
    "language_info": {
      "name": "python"
    }
  },
  "cells": [
    {
      "cell_type": "markdown",
      "metadata": {
        "id": "view-in-github",
        "colab_type": "text"
      },
      "source": [
        "<a href=\"https://colab.research.google.com/github/B-gone/B-gone/blob/main/simple_python_tests.ipynb\" target=\"_parent\"><img src=\"https://colab.research.google.com/assets/colab-badge.svg\" alt=\"Open In Colab\"/></a>"
      ]
    },
    {
      "cell_type": "markdown",
      "source": [
        "make a triangle with *:\n"
      ],
      "metadata": {
        "id": "rrV2hMAuJ_Hi"
      }
    },
    {
      "cell_type": "code",
      "execution_count": 8,
      "metadata": {
        "colab": {
          "base_uri": "https://localhost:8080/"
        },
        "id": "7tqL9x5yJ8aj",
        "outputId": "8ff32ddf-5127-490b-c626-b8387e979ce2"
      },
      "outputs": [
        {
          "output_type": "stream",
          "name": "stdout",
          "text": [
            "\n",
            "\n",
            "*\n",
            "\n",
            "**\n",
            "\n",
            "***\n",
            "\n",
            "****\n",
            "\n",
            "*****\n",
            "\n"
          ]
        }
      ],
      "source": [
        "# i = number of stars in the last row\n",
        "i = 5\n",
        "for i in range(0,i+1):\n",
        "  print('*'*i+'\\n')"
      ]
    }
  ]
}